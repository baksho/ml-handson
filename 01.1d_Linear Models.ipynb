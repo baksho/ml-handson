{
 "cells": [
  {
   "cell_type": "markdown",
   "id": "c97b1183-e543-4c6e-bd3c-2b02b95b8bbc",
   "metadata": {},
   "source": [
    "## 1.1. Linear Models"
   ]
  },
  {
   "cell_type": "markdown",
   "id": "c67f5873-efff-4fbe-84b9-d2c4e7a9009b",
   "metadata": {},
   "source": [
    "### 1.1.10. Bayesian Regression"
   ]
  },
  {
   "cell_type": "markdown",
   "id": "e469bc9f-de5c-4512-ad7e-2a1ff0168730",
   "metadata": {},
   "source": []
  },
  {
   "cell_type": "code",
   "execution_count": null,
   "id": "f9dc14aa-dacd-4bd6-bac7-5fea1e105bb6",
   "metadata": {},
   "outputs": [],
   "source": []
  }
 ],
 "metadata": {
  "kernelspec": {
   "display_name": "Python 3 (ipykernel)",
   "language": "python",
   "name": "python3"
  },
  "language_info": {
   "codemirror_mode": {
    "name": "ipython",
    "version": 3
   },
   "file_extension": ".py",
   "mimetype": "text/x-python",
   "name": "python",
   "nbconvert_exporter": "python",
   "pygments_lexer": "ipython3",
   "version": "3.13.0"
  }
 },
 "nbformat": 4,
 "nbformat_minor": 5
}
