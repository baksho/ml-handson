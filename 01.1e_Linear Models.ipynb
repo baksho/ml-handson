{
 "cells": [
  {
   "cell_type": "markdown",
   "id": "c97b1183-e543-4c6e-bd3c-2b02b95b8bbc",
   "metadata": {},
   "source": [
    "## 1.1. Linear Models"
   ]
  },
  {
   "cell_type": "markdown",
   "id": "c67f5873-efff-4fbe-84b9-d2c4e7a9009b",
   "metadata": {},
   "source": [
    "### 1.1.11. Logistic Regression"
   ]
  },
  {
   "cell_type": "markdown",
   "id": "e469bc9f-de5c-4512-ad7e-2a1ff0168730",
   "metadata": {},
   "source": [
    "The logistic regression is implemented in [`LogisticRegression`](https://scikit-learn.org/stable/modules/generated/sklearn.linear_model.LogisticRegression.html#sklearn.linear_model.LogisticRegression). Despite its name, it is implemented as a linear model for classification rather than regression in terms of the scikit-learn/ML nomenclature. The logistic regression is also known in the literature as logit regression, maximum-entropy classification (MaxEnt) or the log-linear classifier. In this model, the probabilities describing the possible outcomes of a single trial are modeled using a [logistic function](https://en.wikipedia.org/wiki/Logistic_function).\n",
    "\n",
    "This implementation can fit binary, One-vs-Rest, or multinomial logistic regression with optional $\\ell_1$, $\\ell_2$ or Elastic-Net regularization."
   ]
  },
  {
   "cell_type": "markdown",
   "id": "52adeb2e-cd84-43fa-876c-19965ae9ed33",
   "metadata": {},
   "source": [
    "**Note**\n",
    "<div class=\"alert alert-block alert-info\">\n",
    "<b>Regularization:</b>\n",
    "Regularization is applied by default, which is common in machine learning but not in statistics. Another advantage of regularization is that it improves numerical stability. No regularization amounts to setting $C$ to a very high value.\n",
    "</div>\n",
    "\n",
    "<div class=\"alert alert-block alert-info\">\n",
    "<b>Logistic Regression as a special case of the Generalized Linear Models (GLM):</b>\n",
    "Logistic regression is a special case of <a href=\"https://scikit-learn.org/stable/modules/linear_model.html#generalized-linear-models\" target=\"_blank\">Generalized Linear Models</a> with a Binomial / Bernoulli conditional distribution and a Logit link. The numerical output of the logistic regression, which is the predicted probability, can be used as a classifier by applying a threshold (by default $0.5$) to it. This is how it is implemented in scikit-learn, so it expects a categorical target, making the Logistic Regression a classifier.\n",
    "</div>"
   ]
  },
  {
   "cell_type": "markdown",
   "id": "6896cf5c-bbd7-481d-939b-c92e5312015a",
   "metadata": {},
   "source": [
    "#### Example-1.1.11.\n",
    "\n",
    "- L1 Penalty and Sparsity in Logistic Regression\n",
    "- Regularization path of L1- Logistic Regression\n",
    "- Decision Boundaries of Multinomial and One-vs-Rest Logistic Regression\n",
    "- Multiclass sparse logistic regression on 20newgroups\n",
    "- MNIST classification using multinomial logistic + L1\n",
    "- Plot classification probability"
   ]
  },
  {
   "cell_type": "code",
   "execution_count": null,
   "id": "217f5003-bc2b-4588-8b86-4c909b0b70a4",
   "metadata": {},
   "outputs": [],
   "source": []
  }
 ],
 "metadata": {
  "kernelspec": {
   "display_name": "Python 3 (ipykernel)",
   "language": "python",
   "name": "python3"
  },
  "language_info": {
   "codemirror_mode": {
    "name": "ipython",
    "version": 3
   },
   "file_extension": ".py",
   "mimetype": "text/x-python",
   "name": "python",
   "nbconvert_exporter": "python",
   "pygments_lexer": "ipython3",
   "version": "3.12.5"
  }
 },
 "nbformat": 4,
 "nbformat_minor": 5
}
